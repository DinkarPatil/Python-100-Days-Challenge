{
 "cells": [
  {
   "cell_type": "code",
   "execution_count": 1,
   "id": "24036f08-53a5-4d86-873d-3e98566fbdd4",
   "metadata": {},
   "outputs": [
    {
     "name": "stdout",
     "output_type": "stream",
     "text": [
      "Hello World!\n"
     ]
    }
   ],
   "source": [
    "# \n",
    "print(\"Hello World!\")"
   ]
  },
  {
   "cell_type": "code",
   "execution_count": 1,
   "id": "f15fb830-baa4-4fb7-ac60-43cfba679e45",
   "metadata": {},
   "outputs": [
    {
     "name": "stdin",
     "output_type": "stream",
     "text": [
      " 5\n",
      " 8\n"
     ]
    },
    {
     "name": "stdout",
     "output_type": "stream",
     "text": [
      "a: 8\n",
      "b: 5\n"
     ]
    }
   ],
   "source": [
    "# Swapping two numbers\n",
    "a = input()\n",
    "b = input()\n",
    "\n",
    "temp = a\n",
    "a = b\n",
    "b = temp\n",
    "\n",
    "print(\"a:\", a)\n",
    "print(\"b:\", b)"
   ]
  },
  {
   "cell_type": "code",
   "execution_count": 4,
   "id": "6f1c3f26-50a9-4e37-9af3-2046c965b821",
   "metadata": {},
   "outputs": [
    {
     "name": "stdin",
     "output_type": "stream",
     "text": [
      "What's your name?  Dinkar\n"
     ]
    },
    {
     "name": "stdout",
     "output_type": "stream",
     "text": [
      "Number of alphabets:  6\n"
     ]
    }
   ],
   "source": [
    "# Length of function\n",
    "user = input(\"What's your name? \")\n",
    "\n",
    "length = len(user)\n",
    "\n",
    "print(\"Number of alphabets: \", length)"
   ]
  },
  {
   "cell_type": "code",
   "execution_count": 8,
   "id": "4aa400c4-7536-42bf-a4bd-daf9a456e65f",
   "metadata": {},
   "outputs": [
    {
     "name": "stdout",
     "output_type": "stream",
     "text": [
      "Welcome!\n"
     ]
    },
    {
     "name": "stdin",
     "output_type": "stream",
     "text": [
      "Enter the city name your grew up in \n",
      " Nandurbar \n",
      "Enter you pet name: \n",
      " Dog\n"
     ]
    },
    {
     "name": "stdout",
     "output_type": "stream",
     "text": [
      "Your band name could be  Nandurbar  Dog\n"
     ]
    }
   ],
   "source": [
    "# Day 1 Project: Band Name Generator\n",
    "\n",
    "# Create a greeting for your program \n",
    "print(\"Welcome!\")\n",
    "\n",
    "# Ask the user for city that they grew up in \n",
    "a = input(\"Enter the city name your grew up in \\n\")\n",
    "\n",
    "# Ask the user for the name of the pet\n",
    "b = input(\"Enter you pet name: \\n\")\n",
    "\n",
    "# Combine the name of their city and a pet and show them their band name\n",
    "c = a + \" \" + b\n",
    "\n",
    "# Make sure the input cursor shows on a new line \n",
    "print(\"Your band name could be \", c)"
   ]
  },
  {
   "cell_type": "code",
   "execution_count": null,
   "id": "d55928e6-e84d-4749-b02c-084c304e770b",
   "metadata": {},
   "outputs": [],
   "source": []
  }
 ],
 "metadata": {
  "kernelspec": {
   "display_name": "Python 3 (ipykernel)",
   "language": "python",
   "name": "python3"
  },
  "language_info": {
   "codemirror_mode": {
    "name": "ipython",
    "version": 3
   },
   "file_extension": ".py",
   "mimetype": "text/x-python",
   "name": "python",
   "nbconvert_exporter": "python",
   "pygments_lexer": "ipython3",
   "version": "3.11.7"
  },
  "widgets": {
   "application/vnd.jupyter.widget-state+json": {
    "state": {},
    "version_major": 2,
    "version_minor": 0
   }
  }
 },
 "nbformat": 4,
 "nbformat_minor": 5
}
