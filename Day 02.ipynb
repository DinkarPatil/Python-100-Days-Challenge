{
 "cells": [
  {
   "cell_type": "code",
   "execution_count": 3,
   "id": "3edbb93f-e306-4265-93f1-14bed44e34b8",
   "metadata": {},
   "outputs": [
    {
     "data": {
      "text/plain": [
       "468"
      ]
     },
     "execution_count": 3,
     "metadata": {},
     "output_type": "execute_result"
    }
   ],
   "source": [
    "# Data Types\n",
    "\n",
    "# String\n",
    "\"Hello\"\n",
    "\n",
    "# Integer\n",
    "123 \n",
    "\n",
    "# Float\n",
    "3.14\n",
    "\n",
    "# Boolean\n",
    "True\n",
    "False\n",
    "\n"
   ]
  },
  {
   "cell_type": "code",
   "execution_count": 4,
   "id": "72a72568-c44e-4e55-85e1-edbe4b6c3127",
   "metadata": {},
   "outputs": [
    {
     "name": "stdin",
     "output_type": "stream",
     "text": [
      " 1234\n"
     ]
    },
    {
     "data": {
      "text/plain": [
       "int"
      ]
     },
     "execution_count": 4,
     "metadata": {},
     "output_type": "execute_result"
    }
   ],
   "source": [
    "num_char = len(input())\n",
    "\n",
    "type(num_char)"
   ]
  },
  {
   "cell_type": "code",
   "execution_count": 5,
   "id": "6402bbc9-89ac-420d-824c-1d2430c229e8",
   "metadata": {},
   "outputs": [
    {
     "name": "stdin",
     "output_type": "stream",
     "text": [
      "Enter the number the two digit number: \n",
      " 55\n"
     ]
    },
    {
     "name": "stdout",
     "output_type": "stream",
     "text": [
      "Sum of the digits is  10\n"
     ]
    }
   ],
   "source": [
    "# Find the sum of two digits\n",
    "\n",
    "a = input(\"Enter the number the two digit number: \\n\")\n",
    "\n",
    "b = int(a[0])\n",
    "c = int(a[1])\n",
    "\n",
    "\n",
    "d= b+c\n",
    "\n",
    "print(\"Sum of the digits is \", d)"
   ]
  },
  {
   "cell_type": "code",
   "execution_count": 6,
   "id": "b2f9494f-4348-4d90-9bf7-bba0a81994e8",
   "metadata": {},
   "outputs": [],
   "source": [
    "# Mathematical operations:\n",
    "\n",
    "# Sequence of mathematical operations\n",
    "            \n",
    "\n",
    "        # PEMDAS\n",
    "\n",
    "# Parenthesis\n",
    "# Exponential\n",
    "# Multiplication\n",
    "# Division\n",
    "# Addition \n",
    "# Substrations"
   ]
  },
  {
   "cell_type": "code",
   "execution_count": 6,
   "id": "1784870e-6410-4a18-8947-973482391832",
   "metadata": {},
   "outputs": [
    {
     "name": "stdin",
     "output_type": "stream",
     "text": [
      "Enter height in meters:  1.2\n",
      "Enter weight in Kg:  45\n"
     ]
    },
    {
     "name": "stdout",
     "output_type": "stream",
     "text": [
      "Your BMI is  31.25\n"
     ]
    }
   ],
   "source": [
    "# BMI Calculator\n",
    "\n",
    "height = float(input(\"Enter height in meters: \"))\n",
    "weight = int(input(\"Enter weight in Kg: \"))\n",
    "\n",
    "bmi = weight / height**2\n",
    "\n",
    "print(\"Your BMI is \", bmi)"
   ]
  },
  {
   "cell_type": "code",
   "execution_count": 7,
   "id": "b5e8f371-8e9f-4085-b6bf-ccecd04e3142",
   "metadata": {},
   "outputs": [
    {
     "name": "stdout",
     "output_type": "stream",
     "text": [
      "2.67\n"
     ]
    }
   ],
   "source": [
    "# Round Function\n",
    "\n",
    "print(round(8/3, 2))  # upto 2 digits in points"
   ]
  },
  {
   "cell_type": "code",
   "execution_count": 11,
   "id": "177ddce5-ba74-4e05-b194-7df0c378b341",
   "metadata": {},
   "outputs": [
    {
     "name": "stdin",
     "output_type": "stream",
     "text": [
      "Enter your current age in years:\n",
      " 30\n"
     ]
    },
    {
     "name": "stdout",
     "output_type": "stream",
     "text": [
      "Your current age is 30, number of years left is 60 and number of weeks left 3120\n"
     ]
    }
   ],
   "source": [
    "# Life in Weeks\n",
    "\n",
    "age = int(input(\"Enter your current age in years:\\n\"))\n",
    "\n",
    "total_life_span = 90\n",
    "\n",
    "life_left  = 90 - age\n",
    "\n",
    "life_left_in_weeks = (life_left*52)\n",
    "\n",
    "print(f\"Your current age is {age}, number of years left is {life_left} and number of weeks left {life_left_in_weeks}\")"
   ]
  },
  {
   "cell_type": "code",
   "execution_count": 12,
   "id": "97b187ac-ac4b-4836-8c24-8e057909b5a4",
   "metadata": {},
   "outputs": [
    {
     "name": "stdout",
     "output_type": "stream",
     "text": [
      "Welcome to the tip calculator!\n"
     ]
    },
    {
     "name": "stdin",
     "output_type": "stream",
     "text": [
      "What was the total bill? $ 50\n",
      "How much tip would you like to give? 10, 12, or 15?  12\n",
      "How many people to split the bill? 5\n"
     ]
    },
    {
     "name": "stdout",
     "output_type": "stream",
     "text": [
      "Each person should pay: $11.2\n"
     ]
    }
   ],
   "source": [
    "# Tip Calculator\n",
    "\n",
    "# If the bill was $150.00, split between 5 people, with 12% tip. \n",
    "# Each person should pay (150.00 / 5) * 1.12 = 33.6\n",
    "# Round the result to 2 decimal places.\n",
    "print(\"Welcome to the tip calculator!\")\n",
    "bill = float(input(\"What was the total bill? $\"))\n",
    "tip = int(input(\"How much tip would you like to give? 10, 12, or 15? \"))\n",
    "people = int(input(\"How many people to split the bill?\"))\n",
    "\n",
    "tip_as_percent = tip / 100\n",
    "total_tip_amount = bill * tip_as_percent\n",
    "total_bill = bill + total_tip_amount\n",
    "bill_per_person = total_bill / people\n",
    "final_amount = round(bill_per_person, 2)\n",
    "\n",
    "print(f\"Each person should pay: ${final_amount}\")"
   ]
  },
  {
   "cell_type": "code",
   "execution_count": null,
   "id": "280aceb1-7f6d-4391-90bf-9d808119b8b4",
   "metadata": {},
   "outputs": [],
   "source": []
  }
 ],
 "metadata": {
  "kernelspec": {
   "display_name": "Python 3 (ipykernel)",
   "language": "python",
   "name": "python3"
  },
  "language_info": {
   "codemirror_mode": {
    "name": "ipython",
    "version": 3
   },
   "file_extension": ".py",
   "mimetype": "text/x-python",
   "name": "python",
   "nbconvert_exporter": "python",
   "pygments_lexer": "ipython3",
   "version": "3.11.7"
  },
  "widgets": {
   "application/vnd.jupyter.widget-state+json": {
    "state": {},
    "version_major": 2,
    "version_minor": 0
   }
  }
 },
 "nbformat": 4,
 "nbformat_minor": 5
}
