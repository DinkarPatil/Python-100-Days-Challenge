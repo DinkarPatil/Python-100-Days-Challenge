{
 "cells": [
  {
   "cell_type": "code",
   "execution_count": 1,
   "id": "f932165f-5b03-417b-898e-6037c8315b63",
   "metadata": {},
   "outputs": [],
   "source": [
    "# If-Else Condition"
   ]
  },
  {
   "cell_type": "code",
   "execution_count": 2,
   "id": "7bbf26ce-d535-4e3e-8e6e-dee5d2e597eb",
   "metadata": {},
   "outputs": [
    {
     "name": "stdout",
     "output_type": "stream",
     "text": [
      "Welcome to the rollcoster!\n"
     ]
    },
    {
     "name": "stdin",
     "output_type": "stream",
     "text": [
      "What is your height in cm? 152\n"
     ]
    },
    {
     "name": "stdout",
     "output_type": "stream",
     "text": [
      "You can ride the rollercoster!\n"
     ]
    }
   ],
   "source": [
    "print(\"Welcome to the rollcoster!\")\n",
    "height = int(input(\"What is your height in cm?\"))\n",
    "\n",
    "if height >= 120:\n",
    "    print(\"You can ride the rollercoster!\")\n",
    "\n",
    "else: \n",
    "    print(\"Sorry! You cannot ride the rollcoster!\")"
   ]
  },
  {
   "cell_type": "code",
   "execution_count": 3,
   "id": "b7564f67-0843-473a-94b3-48e0c0d2d336",
   "metadata": {},
   "outputs": [
    {
     "name": "stdin",
     "output_type": "stream",
     "text": [
      "Enter the positive number\n",
      " 5\n"
     ]
    },
    {
     "name": "stdout",
     "output_type": "stream",
     "text": [
      "Number is odd!\n"
     ]
    }
   ],
   "source": [
    "# Odd or even Number\n",
    "\n",
    "# % is called as modulo to get remainder in division\n",
    "\n",
    "number = int(input(\"Enter the positive number\\n\"))\n",
    "\n",
    "if number%2 == 0:\n",
    "    print(\"Number is even!\")\n",
    "\n",
    "else:\n",
    "    print(\"Number is odd!\")"
   ]
  },
  {
   "cell_type": "code",
   "execution_count": 5,
   "id": "f47234a6-3e51-4d28-a9f8-0b7a5cf2d9ef",
   "metadata": {},
   "outputs": [
    {
     "name": "stdout",
     "output_type": "stream",
     "text": [
      "Welcome to the rollcoster!\n"
     ]
    },
    {
     "name": "stdin",
     "output_type": "stream",
     "text": [
      "What is your height in cm? 125\n"
     ]
    },
    {
     "name": "stdout",
     "output_type": "stream",
     "text": [
      "You can ride the rollercoster!\n"
     ]
    },
    {
     "name": "stdin",
     "output_type": "stream",
     "text": [
      "What is your age? 6\n"
     ]
    },
    {
     "name": "stdout",
     "output_type": "stream",
     "text": [
      "Please pay $5!\n"
     ]
    }
   ],
   "source": [
    "# Nested Loop\n",
    "print(\"Welcome to the rollcoster!\")\n",
    "height = int(input(\"What is your height in cm?\"))\n",
    "\n",
    "if height >= 120:\n",
    "    print(\"You can ride the rollercoster!\")\n",
    "    age = int(input(\"What is your age?\"))\n",
    "    if age < 12:\n",
    "        print(\"Please pay $5!\")\n",
    "    elif age <= 18:\n",
    "        print(\"Please pay $7!\")\n",
    "    else:\n",
    "        print(\"Please pay $10!\")\n",
    "else: \n",
    "    print(\"Sorry! You cannot ride the rollcoster!\")"
   ]
  },
  {
   "cell_type": "code",
   "execution_count": 8,
   "id": "a6b5dde9-77f8-42b1-ba3e-4e79945a4b7b",
   "metadata": {},
   "outputs": [
    {
     "name": "stdin",
     "output_type": "stream",
     "text": [
      "What is your height (in meters) 1.8\n",
      "What is your weight (in kg) 200\n"
     ]
    },
    {
     "name": "stdout",
     "output_type": "stream",
     "text": [
      "Your bmi is 61.72839506172839, you are clinically obese!\n"
     ]
    }
   ],
   "source": [
    "# BMI Calculator and Classification \n",
    "\n",
    "height = float(input(\"What is your height (in meters)\"))\n",
    "\n",
    "weight = int(input(\"What is your weight (in kg)\"))\n",
    "\n",
    "# BMI Calculator\n",
    "\n",
    "bmi = (weight / (height**2))\n",
    "\n",
    "\n",
    "# BMI Categorisation\n",
    "\n",
    "if bmi < 18.5:\n",
    "    print(f\"Your bmi is {bmi}, you are underweight!\")\n",
    "\n",
    "elif 18.5 <= bmi < 25:\n",
    "    print(f\"Your bmi is {bmi}, you are normal weight!\")\n",
    "\n",
    "elif 25 <= bmi < 30:\n",
    "    print(f\"Your bmi is {bmi}, you are slightly overweight!\")\n",
    "\n",
    "elif 30 <= bmi < 35:\n",
    "    print(f\"Your bmi is {bmi}, you are obese!\")\n",
    "\n",
    "else: \n",
    "    print(f\"Your bmi is {bmi}, you are clinically obese!\")"
   ]
  },
  {
   "cell_type": "code",
   "execution_count": 10,
   "id": "48eee606-7e99-4c41-a10b-48bab7944657",
   "metadata": {},
   "outputs": [
    {
     "name": "stdin",
     "output_type": "stream",
     "text": [
      "Enter the year:\n",
      " 2005\n"
     ]
    },
    {
     "name": "stdout",
     "output_type": "stream",
     "text": [
      "Not a leap year!\n"
     ]
    }
   ],
   "source": [
    "# YEAR is Leap or Not\n",
    "\n",
    "year = int(input(\"Enter the year: \"))\n",
    "\n",
    "if year%4 == 0:\n",
    "    \n",
    "    if year%100 == 0:\n",
    "        \n",
    "        if year%400 == 0:\n",
    "            print(\"Leap year!\")\n",
    "        else:\n",
    "            print(\"Not a leap year!\")\n",
    "\n",
    "    else:\n",
    "        print(\"Not a leap year!\")\n",
    "\n",
    "else:\n",
    "    print(\"Not a leap year!\")"
   ]
  },
  {
   "cell_type": "code",
   "execution_count": 12,
   "id": "24181f24-112f-4c3d-8da4-91069c8e0ef0",
   "metadata": {},
   "outputs": [
    {
     "name": "stdout",
     "output_type": "stream",
     "text": [
      "Welcome to the rollcoster!\n"
     ]
    },
    {
     "name": "stdin",
     "output_type": "stream",
     "text": [
      "What is your height in cm? 125\n"
     ]
    },
    {
     "name": "stdout",
     "output_type": "stream",
     "text": [
      "You can ride the rollercoster!\n"
     ]
    },
    {
     "name": "stdin",
     "output_type": "stream",
     "text": [
      "What is your age? 35\n"
     ]
    },
    {
     "name": "stdout",
     "output_type": "stream",
     "text": [
      "Adult ticket $10!\n"
     ]
    },
    {
     "name": "stdin",
     "output_type": "stream",
     "text": [
      "Do you want photo? 'Y' or 'N' y\n"
     ]
    },
    {
     "name": "stdout",
     "output_type": "stream",
     "text": [
      "Your final bill is 13\n"
     ]
    }
   ],
   "source": [
    "# Nested Loop\n",
    "print(\"Welcome to the rollcoster!\")\n",
    "height = int(input(\"What is your height in cm?\"))\n",
    "bill = 0\n",
    "if height >= 120:\n",
    "    print(\"You can ride the rollercoster!\")\n",
    "    age = int(input(\"What is your age?\"))\n",
    "    if age < 12:\n",
    "        bill = 5\n",
    "        print(\"Child Ticket $5!\")\n",
    "    elif age <= 18:\n",
    "        bill = 7\n",
    "        print(\"Youth ticket $7!\")\n",
    "    else:\n",
    "        bill = 10\n",
    "        print(\"Adult ticket $10!\")\n",
    "\n",
    "    wants_photos = input(\"Do you want photo? 'Y' or 'N'\")\n",
    "    if wants_photos == \"Y\" or \"y\":\n",
    "        bill +=3\n",
    "        print(f\"Your final bill is {bill}\")\n",
    "else: \n",
    "    print(\"Sorry! You cannot ride the rollcoster!\")"
   ]
  },
  {
   "cell_type": "code",
   "execution_count": 31,
   "id": "af410611-2c2c-4b07-8710-9ac716624469",
   "metadata": {},
   "outputs": [
    {
     "name": "stdout",
     "output_type": "stream",
     "text": [
      "Thank you choosing Python Pizza Deliveries!\n"
     ]
    },
    {
     "name": "stdin",
     "output_type": "stream",
     "text": [
      "Please enter the size of Pizza: (S, M or L)   :         L\n",
      "Do you want Pepperoni? ('Y' or 'N')           :         Y\n",
      "Do you want extra sauce? ('Y' or 'N')         :         Y\n"
     ]
    },
    {
     "name": "stdout",
     "output_type": "stream",
     "text": [
      "\n",
      "Total bill is 28!\n",
      "\n",
      "Thank you for the visit! Visit again!\n"
     ]
    }
   ],
   "source": [
    "# Pizza Order Billing\n",
    "\n",
    "print(\"Thank you choosing Python Pizza Deliveries!\")\n",
    "\n",
    "size = input(\"Please enter the size of Pizza: (S, M or L)   :        \")\n",
    "\n",
    "add_pep = input(\"Do you want Pepperoni? ('Y' or 'N')           :        \")\n",
    "\n",
    "extra_sauce = input(\"Do you want extra sauce? ('Y' or 'N')         :        \")\n",
    "\n",
    "bill = 0\n",
    "\n",
    "if size == \"S\":\n",
    "    bill +=15\n",
    "elif size == \"M\":\n",
    "    bill += 20\n",
    "else:\n",
    "    bill += 25\n",
    "\n",
    "if add_pep == \"Y\":\n",
    "    bill +=2\n",
    "\n",
    "if extra_sauce ==\"Y\":\n",
    "    bill += 1\n",
    "\n",
    "print(f\"\\nTotal bill is {bill}!\")\n",
    "\n",
    "print(\"\\nThank you for the visit! Visit again!\")"
   ]
  },
  {
   "cell_type": "code",
   "execution_count": null,
   "id": "67a35015-95b0-4cc6-9b38-ae7320aa4b09",
   "metadata": {},
   "outputs": [],
   "source": []
  },
  {
   "cell_type": "code",
   "execution_count": null,
   "id": "99f6d1ce-0a77-4baf-91f3-2e5a1fd5a919",
   "metadata": {},
   "outputs": [],
   "source": []
  }
 ],
 "metadata": {
  "kernelspec": {
   "display_name": "Python 3 (ipykernel)",
   "language": "python",
   "name": "python3"
  },
  "language_info": {
   "codemirror_mode": {
    "name": "ipython",
    "version": 3
   },
   "file_extension": ".py",
   "mimetype": "text/x-python",
   "name": "python",
   "nbconvert_exporter": "python",
   "pygments_lexer": "ipython3",
   "version": "3.11.7"
  },
  "widgets": {
   "application/vnd.jupyter.widget-state+json": {
    "state": {},
    "version_major": 2,
    "version_minor": 0
   }
  }
 },
 "nbformat": 4,
 "nbformat_minor": 5
}
