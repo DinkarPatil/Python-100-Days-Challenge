{
 "cells": [
  {
   "cell_type": "code",
   "execution_count": 1,
   "id": "c61e3119-5158-4fd2-a232-09e8d955359d",
   "metadata": {},
   "outputs": [],
   "source": [
    "# Day 4"
   ]
  },
  {
   "cell_type": "code",
   "execution_count": 2,
   "id": "bae4de26-ff60-496f-92ab-832a4ced541c",
   "metadata": {},
   "outputs": [],
   "source": [
    "# Randomisation Concept"
   ]
  },
  {
   "cell_type": "code",
   "execution_count": 3,
   "id": "b3164650-7c95-4627-bc75-06abef8f95b3",
   "metadata": {},
   "outputs": [],
   "source": [
    "import random"
   ]
  },
  {
   "cell_type": "code",
   "execution_count": 7,
   "id": "4e7923a4-68af-4566-8f54-c5f86576a47a",
   "metadata": {},
   "outputs": [
    {
     "name": "stdout",
     "output_type": "stream",
     "text": [
      "5\n"
     ]
    }
   ],
   "source": [
    "random_integer = random.randint(1, 10)\n",
    "print(random_integer)"
   ]
  },
  {
   "cell_type": "code",
   "execution_count": 8,
   "id": "58cb0570-a9a6-45ec-b012-e21500677119",
   "metadata": {},
   "outputs": [
    {
     "name": "stdout",
     "output_type": "stream",
     "text": [
      "0.9890946062302186\n"
     ]
    }
   ],
   "source": [
    "randomfloat = random.random()*5\n",
    "print(randomfloat)"
   ]
  },
  {
   "cell_type": "code",
   "execution_count": 15,
   "id": "601ac7f7-6d3f-4e88-9ebd-ce0ac1affa1e",
   "metadata": {},
   "outputs": [
    {
     "name": "stdout",
     "output_type": "stream",
     "text": [
      "73\n"
     ]
    }
   ],
   "source": [
    "love_score = random.randint(1, 100)\n",
    "print(love_score)"
   ]
  },
  {
   "cell_type": "code",
   "execution_count": 23,
   "id": "2f11e4e1-0349-4650-b296-f2a4f09cee1b",
   "metadata": {},
   "outputs": [
    {
     "name": "stdout",
     "output_type": "stream",
     "text": [
      "Tail\n"
     ]
    }
   ],
   "source": [
    "# Coin Toss Random Tossing\n",
    "random_side = random.randint(0, 1)\n",
    "if random_side==1:\n",
    "    print(\"Head\")\n",
    "else:\n",
    "    print(\"Tail\")"
   ]
  },
  {
   "cell_type": "code",
   "execution_count": 24,
   "id": "7e340bc8-5f12-43fd-afc3-f080bc880af9",
   "metadata": {},
   "outputs": [],
   "source": [
    "# List"
   ]
  },
  {
   "cell_type": "code",
   "execution_count": 25,
   "id": "4c7fce00-746f-43ce-8ec8-d140d49e26be",
   "metadata": {},
   "outputs": [],
   "source": [
    "# Indexing\n",
    "# Positive indexing\n",
    "# Negative indexing"
   ]
  },
  {
   "cell_type": "code",
   "execution_count": 27,
   "id": "190d43b2-1b0c-4e1f-b90e-494cf2c33943",
   "metadata": {},
   "outputs": [],
   "source": [
    "# append function\n",
    "# extend function"
   ]
  },
  {
   "cell_type": "code",
   "execution_count": 32,
   "id": "f38823ef-1988-445b-913a-8566ca923eb4",
   "metadata": {},
   "outputs": [
    {
     "name": "stdin",
     "output_type": "stream",
     "text": [
      "Enter list separated by commas:\n",
      " dinkar1, dinkar2, dinkar3, dinkar4, dinkar5\n"
     ]
    },
    {
     "name": "stdout",
     "output_type": "stream",
     "text": [
      "dinkar4\n"
     ]
    }
   ],
   "source": [
    "# Who will pay the bill?\n",
    "\n",
    "names_string = input(\"Enter list separated by commas:\\n\")\n",
    "\n",
    "names = names_string.split(\", \")\n",
    "\n",
    "import random\n",
    "\n",
    "# Get the total number of items in list\n",
    "num_items = len(names)\n",
    "\n",
    "# Generate random numbers between 0 and the last index\n",
    "random_choice = random.randint(0, num_items - 1)\n",
    "\n",
    "# Choose and print a random name\n",
    "print(names[random_choice])"
   ]
  },
  {
   "cell_type": "code",
   "execution_count": 1,
   "id": "36724391-5427-4806-9beb-916a9c2c8080",
   "metadata": {},
   "outputs": [
    {
     "name": "stdout",
     "output_type": "stream",
     "text": [
      "Hiding your treasure! X marks the spot.\n"
     ]
    },
    {
     "name": "stdin",
     "output_type": "stream",
     "text": [
      " 0\n"
     ]
    },
    {
     "ename": "ValueError",
     "evalue": "'0' is not in list",
     "output_type": "error",
     "traceback": [
      "\u001b[1;31m---------------------------------------------------------------------------\u001b[0m",
      "\u001b[1;31mValueError\u001b[0m                                Traceback (most recent call last)",
      "Cell \u001b[1;32mIn[1], line 12\u001b[0m\n\u001b[0;32m     10\u001b[0m letter \u001b[38;5;241m=\u001b[39m position[\u001b[38;5;241m0\u001b[39m]\u001b[38;5;241m.\u001b[39mlower()\n\u001b[0;32m     11\u001b[0m abc \u001b[38;5;241m=\u001b[39m [\u001b[38;5;124m'\u001b[39m\u001b[38;5;124ma\u001b[39m\u001b[38;5;124m'\u001b[39m, \u001b[38;5;124m'\u001b[39m\u001b[38;5;124mb\u001b[39m\u001b[38;5;124m'\u001b[39m, \u001b[38;5;124m'\u001b[39m\u001b[38;5;124mc\u001b[39m\u001b[38;5;124m'\u001b[39m]\n\u001b[1;32m---> 12\u001b[0m letter_index \u001b[38;5;241m=\u001b[39m abc\u001b[38;5;241m.\u001b[39mindex(letter)\n\u001b[0;32m     13\u001b[0m number_index \u001b[38;5;241m=\u001b[39m \u001b[38;5;28mint\u001b[39m(position[\u001b[38;5;241m1\u001b[39m]) \u001b[38;5;241m-\u001b[39m \u001b[38;5;241m1\u001b[39m\n\u001b[0;32m     14\u001b[0m \u001b[38;5;28mmap\u001b[39m[number_index][letter_index] \u001b[38;5;241m=\u001b[39m \u001b[38;5;124m'\u001b[39m\u001b[38;5;124mX\u001b[39m\u001b[38;5;124m'\u001b[39m\n",
      "\u001b[1;31mValueError\u001b[0m: '0' is not in list"
     ]
    }
   ],
   "source": [
    "# Hidden Treasure Map\n",
    "\n",
    "line1 = [\"[]\", \"[]\", \"[]\"]\n",
    "line2 = [\"[]\", \"[]\", \"[]\"]\n",
    "line3 = [\"[]\", \"[]\", \"[]\"]\n",
    "map = line1, line2, line3\n",
    "print(\"Hiding your treasure! X marks the spot.\")\n",
    "position = input()\n",
    "\n",
    "letter = position[0].lower()\n",
    "abc = ['a', 'b', 'c']\n",
    "letter_index = abc.index(letter)\n",
    "number_index = int(position[1]) - 1\n",
    "map[number_index][letter_index] = 'X'\n",
    "\n",
    "\n",
    "print(f\"{line1}\\n{line2}\\n{line3}\")"
   ]
  },
  {
   "cell_type": "code",
   "execution_count": 11,
   "id": "79f7c31c-395d-4a82-bd6d-9a6e73d6080c",
   "metadata": {},
   "outputs": [
    {
     "name": "stdin",
     "output_type": "stream",
     "text": [
      "What do you choose? Type 0 for Rock, 1 for Paper or 2 for Scissors.\n",
      " 1\n"
     ]
    },
    {
     "name": "stdout",
     "output_type": "stream",
     "text": [
      "\n",
      "    _______\n",
      "---'   ____)____\n",
      "          ______)\n",
      "          _______)\n",
      "         _______)\n",
      "---.__________)\n",
      "\n",
      "Computer chose:\n",
      "\n",
      "    _______\n",
      "---'   ____)\n",
      "      (_____)\n",
      "      (_____)\n",
      "      (____)\n",
      "---.__(___)\n",
      "\n",
      "You win!\n"
     ]
    }
   ],
   "source": [
    "import random\n",
    "\n",
    "# Rock Paper Scissors Game\n",
    "\n",
    "rock = '''\n",
    "    _______\n",
    "---'   ____)\n",
    "      (_____)\n",
    "      (_____)\n",
    "      (____)\n",
    "---.__(___)\n",
    "'''\n",
    "\n",
    "paper = '''\n",
    "    _______\n",
    "---'   ____)____\n",
    "          ______)\n",
    "          _______)\n",
    "         _______)\n",
    "---.__________)\n",
    "'''\n",
    "\n",
    "scissors = '''\n",
    "    _______\n",
    "---'   ____)____\n",
    "          ______)\n",
    "       __________)\n",
    "      (____)\n",
    "---.__(___)\n",
    "'''\n",
    "\n",
    "game_images = [rock, paper, scissors]\n",
    "\n",
    "user_choice = int(input(\"What do you choose? Type 0 for Rock, 1 for Paper or 2 for Scissors.\\n\"))\n",
    "if user_choice >= 3 or user_choice < 0: \n",
    "  print(\"You typed an invalid number, you lose!\") \n",
    "\n",
    "else:\n",
    "    print(game_images[user_choice])\n",
    "    \n",
    "    computer_choice = random.randint(0, 2)\n",
    "    print(\"Computer chose:\")\n",
    "    print(game_images[computer_choice])\n",
    "    \n",
    "    if user_choice == 0 and computer_choice == 2:\n",
    "      print(\"You win!\")\n",
    "    elif computer_choice == 0 and user_choice == 2:\n",
    "      print(\"You lose\")\n",
    "    elif computer_choice > user_choice:\n",
    "      print(\"You lose\")\n",
    "    elif user_choice > computer_choice:\n",
    "      print(\"You win!\")\n",
    "    elif computer_choice == user_choice:\n",
    "      print(\"It's a draw\")"
   ]
  },
  {
   "cell_type": "code",
   "execution_count": null,
   "id": "ca32d997-79f6-4315-a4bd-0cc23a9073f2",
   "metadata": {},
   "outputs": [],
   "source": []
  }
 ],
 "metadata": {
  "kernelspec": {
   "display_name": "Python 3 (ipykernel)",
   "language": "python",
   "name": "python3"
  },
  "language_info": {
   "codemirror_mode": {
    "name": "ipython",
    "version": 3
   },
   "file_extension": ".py",
   "mimetype": "text/x-python",
   "name": "python",
   "nbconvert_exporter": "python",
   "pygments_lexer": "ipython3",
   "version": "3.11.7"
  },
  "widgets": {
   "application/vnd.jupyter.widget-state+json": {
    "state": {},
    "version_major": 2,
    "version_minor": 0
   }
  }
 },
 "nbformat": 4,
 "nbformat_minor": 5
}
