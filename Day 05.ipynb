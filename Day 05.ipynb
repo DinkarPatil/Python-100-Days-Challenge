{
 "cells": [
  {
   "cell_type": "code",
   "execution_count": 1,
   "id": "0c95fb75-2cb6-4601-b181-f3ee8a4056dd",
   "metadata": {},
   "outputs": [],
   "source": [
    "# Day 05"
   ]
  },
  {
   "cell_type": "code",
   "execution_count": 2,
   "id": "7f00f770-b4f5-402b-9b38-aacd53a2d691",
   "metadata": {},
   "outputs": [],
   "source": [
    "# Loops"
   ]
  },
  {
   "cell_type": "code",
   "execution_count": 3,
   "id": "30629a73-e432-4228-b908-65e22026fb03",
   "metadata": {},
   "outputs": [
    {
     "name": "stdout",
     "output_type": "stream",
     "text": [
      "apple\n",
      "peach\n",
      "pear\n"
     ]
    }
   ],
   "source": [
    "# For loop\n",
    "fruits = ['Apple', 'Peach', 'Pear']\n",
    "\n",
    "for i in fruits:\n",
    "    print(i)"
   ]
  },
  {
   "cell_type": "code",
   "execution_count": 2,
   "id": "cb45d951-461a-455b-b3b6-0fc9f611e27a",
   "metadata": {},
   "outputs": [
    {
     "name": "stdout",
     "output_type": "stream",
     "text": [
      "number of students = 4\n",
      "Average height = 126.0\n"
     ]
    }
   ],
   "source": [
    "# Finding average height\n",
    "student_height = [121,114,145,124]\n",
    "\n",
    "total_height = 0\n",
    "for height in student_height:\n",
    "    total_height +=height\n",
    "\n",
    "number_of_students = 0\n",
    "for student in student_height:\n",
    "    number_of_students +=1\n",
    "print(f\"number of students = {number_of_students}\")\n",
    "\n",
    "average_height = round(total_height/number_of_students)\n",
    "print(f\"Average height = {average_height}\")"
   ]
  },
  {
   "cell_type": "code",
   "execution_count": 6,
   "id": "833cfbae-f863-4d17-bf1f-6293362be05c",
   "metadata": {},
   "outputs": [
    {
     "name": "stdout",
     "output_type": "stream",
     "text": [
      "Highest Score is 974\n"
     ]
    }
   ],
   "source": [
    "# Find the highest score\n",
    "\n",
    "student_scores = [80, 974, 85, 100]\n",
    "for n in range(0, len(student_scores)):\n",
    "    student_scores[n] = int(student_scores[n])\n",
    "\n",
    "highest_score = 0\n",
    "\n",
    "for score in student_scores:\n",
    "    if score > highest_score:\n",
    "        highest_score = score\n",
    "\n",
    "print(f\"Highest Score is {highest_score}\")"
   ]
  },
  {
   "cell_type": "code",
   "execution_count": 7,
   "id": "acc12e86-8b96-4efa-a83e-1861a3c7a197",
   "metadata": {},
   "outputs": [
    {
     "name": "stdout",
     "output_type": "stream",
     "text": [
      "1\n",
      "2\n",
      "3\n",
      "4\n",
      "5\n",
      "6\n",
      "7\n",
      "8\n",
      "9\n",
      "10\n"
     ]
    }
   ],
   "source": [
    "# Range function\n",
    "\n",
    "for number in range(1,11):\n",
    "    print(number)"
   ]
  },
  {
   "cell_type": "code",
   "execution_count": 8,
   "id": "d6cabe0b-388a-4bf4-8ffb-c351e4252de6",
   "metadata": {},
   "outputs": [
    {
     "name": "stdout",
     "output_type": "stream",
     "text": [
      "5050\n"
     ]
    }
   ],
   "source": [
    "# Add first 100 numbers\n",
    "\n",
    "total = 0\n",
    "for number in range(1, 101):\n",
    "    total += number\n",
    "\n",
    "print(total)"
   ]
  },
  {
   "cell_type": "code",
   "execution_count": 15,
   "id": "a0f6d7d2-383c-4614-9a2d-fc6845360f20",
   "metadata": {},
   "outputs": [
    {
     "name": "stdout",
     "output_type": "stream",
     "text": [
      "2550\n"
     ]
    }
   ],
   "source": [
    "# Find the sum of first 100 even number\n",
    "\n",
    "total = 0\n",
    "for i in range(2, 101, 2):\n",
    "    total += i\n",
    "\n",
    "print(total)"
   ]
  },
  {
   "cell_type": "code",
   "execution_count": 21,
   "id": "61466bfb-ea61-4e15-99f0-ab1cae7a5367",
   "metadata": {},
   "outputs": [
    {
     "name": "stdin",
     "output_type": "stream",
     "text": [
      " 50\n"
     ]
    },
    {
     "name": "stdout",
     "output_type": "stream",
     "text": [
      "1\n",
      "2\n",
      "Fizz\n",
      "4\n",
      "Buzz\n",
      "Fizz\n",
      "7\n",
      "8\n",
      "Fizz\n",
      "Buzz\n",
      "11\n",
      "Fizz\n",
      "13\n",
      "14\n",
      "FizzBuzz\n",
      "16\n",
      "17\n",
      "Fizz\n",
      "19\n",
      "Buzz\n",
      "Fizz\n",
      "22\n",
      "23\n",
      "Fizz\n",
      "Buzz\n",
      "26\n",
      "Fizz\n",
      "28\n",
      "29\n",
      "FizzBuzz\n",
      "31\n",
      "32\n",
      "Fizz\n",
      "34\n",
      "Buzz\n",
      "Fizz\n",
      "37\n",
      "38\n",
      "Fizz\n",
      "Buzz\n",
      "41\n",
      "Fizz\n",
      "43\n",
      "44\n",
      "FizzBuzz\n",
      "46\n",
      "47\n",
      "Fizz\n",
      "49\n",
      "Buzz\n"
     ]
    }
   ],
   "source": [
    "# Fizz Buzz and FizzBuzz Game\n",
    "\n",
    "numbers = int(input())\n",
    "\n",
    "for number in range(1, numbers+1):\n",
    "    if (number%3 == 0) and (number%5 == 0):\n",
    "        print(\"FizzBuzz\")\n",
    "    elif (number%3 == 0):\n",
    "        print(\"Fizz\")\n",
    "    elif (number%5 == 0):\n",
    "        print(\"Buzz\")\n",
    "    else:\n",
    "        print(number)"
   ]
  },
  {
   "cell_type": "code",
   "execution_count": 29,
   "id": "538bc20b-70a6-4c82-bf94-257001024053",
   "metadata": {},
   "outputs": [
    {
     "name": "stdout",
     "output_type": "stream",
     "text": [
      "Welcome to the PyPassword Generator!\n"
     ]
    },
    {
     "name": "stdin",
     "output_type": "stream",
     "text": [
      "How many letters would you like in your password?\n",
      " 3\n",
      "How many symbols would you like?\n",
      " 4\n",
      "How many numbers would you like?\n",
      " 7\n"
     ]
    },
    {
     "name": "stdout",
     "output_type": "stream",
     "text": [
      "['W', 'x', 'j', ')', '%', '&', '%', '2', '2', '5', '0', '5', '8', '9']\n",
      "['0', '%', '2', 'x', ')', 'W', 'j', '%', '8', '2', '5', '9', '5', '&']\n",
      "Your password is 0%2x)Wj%82595&\n"
     ]
    }
   ],
   "source": [
    "# Random Password Generator\n",
    "\n",
    "import random\n",
    "letters = ['a', 'b', 'c', 'd', 'e', 'f', 'g', 'h', 'i', 'j', 'k', \n",
    "           'l', 'm', 'n', 'o', 'p', 'q', 'r', 's', 't', 'u', 'v', \n",
    "           'w', 'x', 'y', 'z', 'A', 'B', 'C', 'D', 'E', 'F', 'G', \n",
    "           'H', 'I', 'J', 'K', 'L', 'M', 'N', 'O', 'P', 'Q', 'R', \n",
    "           'S', 'T', 'U', 'V', 'W', 'X', 'Y', 'Z']\n",
    "\n",
    "numbers = ['0', '1', '2', '3', '4', '5', '6', '7', '8', '9']\n",
    "\n",
    "symbols = ['!', '#', '$', '%', '&', '(', ')', '*', '+']\n",
    "\n",
    "print(\"Welcome to the PyPassword Generator!\")\n",
    "nr_letters= int(input(\"How many letters would you like in your password?\\n\")) \n",
    "nr_symbols = int(input(f\"How many symbols would you like?\\n\"))\n",
    "nr_numbers = int(input(f\"How many numbers would you like?\\n\"))\n",
    "\n",
    "\n",
    "# #Easy Level - Order not randomised:\n",
    "# #e.g. 4 letter, 2 symbol, 2 number = JduE&!91\n",
    "# password = \"\"\n",
    "# for char in range(1, nr_letters+1):\n",
    "#     password += random.choice(letters)\n",
    "\n",
    "# for char in range(1, nr_symbols+1):\n",
    "#     password += random.choice(symbols)\n",
    "\n",
    "# for char in range(1, nr_numbers+1):\n",
    "#     password += random.choice(numbers)\n",
    "\n",
    "# print(password)\n",
    "    \n",
    "#Hard Level - Order of characters randomised:\n",
    "#e.g. 4 letter, 2 symbol, 2 number = g^2jk8&P\n",
    "password_list = []\n",
    "\n",
    "for char in range(1, nr_letters+1):\n",
    "    password_list += random.choice(letters)\n",
    "\n",
    "for char in range(1, nr_symbols+1):\n",
    "    password_list += random.choice(symbols)\n",
    "\n",
    "for char in range(1, nr_numbers+1):\n",
    "    password_list += random.choice(numbers)\n",
    "\n",
    "# print(password_list)\n",
    "\n",
    "random.shuffle(password_list)\n",
    "\n",
    "# print(password_list)\n",
    "\n",
    "password = \"\"\n",
    "for char in password_list:\n",
    "    password += char\n",
    "\n",
    "print(f\"Your password is {password}\")"
   ]
  },
  {
   "cell_type": "code",
   "execution_count": null,
   "id": "d3364d41-5118-4880-b4d1-47aae75329a2",
   "metadata": {},
   "outputs": [],
   "source": []
  }
 ],
 "metadata": {
  "kernelspec": {
   "display_name": "Python 3 (ipykernel)",
   "language": "python",
   "name": "python3"
  },
  "language_info": {
   "codemirror_mode": {
    "name": "ipython",
    "version": 3
   },
   "file_extension": ".py",
   "mimetype": "text/x-python",
   "name": "python",
   "nbconvert_exporter": "python",
   "pygments_lexer": "ipython3",
   "version": "3.11.7"
  },
  "widgets": {
   "application/vnd.jupyter.widget-state+json": {
    "state": {},
    "version_major": 2,
    "version_minor": 0
   }
  }
 },
 "nbformat": 4,
 "nbformat_minor": 5
}
