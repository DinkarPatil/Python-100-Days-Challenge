{
 "cells": [
  {
   "cell_type": "code",
   "execution_count": 1,
   "id": "d0e76fa8-22c1-45ff-90ac-7fa2f26ce742",
   "metadata": {},
   "outputs": [],
   "source": [
    "# Day 06"
   ]
  },
  {
   "cell_type": "code",
   "execution_count": 3,
   "id": "4344e08c-e1a3-4288-af52-f33ffb7f63ab",
   "metadata": {},
   "outputs": [],
   "source": [
    "# Functions\n",
    "\n",
    "# Defining function\n",
    "\n",
    "# Calling functions"
   ]
  },
  {
   "cell_type": "code",
   "execution_count": 5,
   "id": "bc078dd6-6d9d-4673-a4dd-d37b166b7aa3",
   "metadata": {},
   "outputs": [],
   "source": [
    "# # Move function\n",
    "\n",
    "# # move, turn_left,  \n",
    "\n",
    "# # There is no turn_right function\n",
    "\n",
    "# # Let create turn-right function\n",
    "    # def turn_right():\n",
    "    #     turn_left()\n",
    "    #     turn_left()\n",
    "    #     turn_left()\n",
    "\n",
    "# turn_right()"
   ]
  },
  {
   "cell_type": "code",
   "execution_count": null,
   "id": "4778f5bf-5fa7-43d1-b840-1374b344e49b",
   "metadata": {},
   "outputs": [],
   "source": []
  }
 ],
 "metadata": {
  "kernelspec": {
   "display_name": "Python 3 (ipykernel)",
   "language": "python",
   "name": "python3"
  },
  "language_info": {
   "codemirror_mode": {
    "name": "ipython",
    "version": 3
   },
   "file_extension": ".py",
   "mimetype": "text/x-python",
   "name": "python",
   "nbconvert_exporter": "python",
   "pygments_lexer": "ipython3",
   "version": "3.11.7"
  },
  "widgets": {
   "application/vnd.jupyter.widget-state+json": {
    "state": {},
    "version_major": 2,
    "version_minor": 0
   }
  }
 },
 "nbformat": 4,
 "nbformat_minor": 5
}
