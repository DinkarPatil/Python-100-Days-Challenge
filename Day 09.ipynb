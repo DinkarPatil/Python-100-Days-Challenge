{
 "cells": [
  {
   "cell_type": "code",
   "execution_count": 1,
   "id": "c41c3b2c-69d3-46a8-8e3e-9eb623eef60c",
   "metadata": {},
   "outputs": [],
   "source": [
    "# Day 9"
   ]
  },
  {
   "cell_type": "markdown",
   "id": "b4b209e1-c7f9-4070-90b6-5d47123ee4dd",
   "metadata": {},
   "source": [
    "# Dictionaries"
   ]
  },
  {
   "cell_type": "code",
   "execution_count": 3,
   "id": "0df4c1db-b298-42cb-a69f-924b9e912987",
   "metadata": {},
   "outputs": [],
   "source": [
    "# {Key: Value}\n",
    "# {\"Bug\": \"Error from running as expected\"}"
   ]
  },
  {
   "cell_type": "code",
   "execution_count": 5,
   "id": "9af0e6be-2eff-4728-997b-3638e18cb416",
   "metadata": {},
   "outputs": [
    {
     "name": "stdout",
     "output_type": "stream",
     "text": [
      "An error in a program that prevents the program from running as expected.\n"
     ]
    }
   ],
   "source": [
    "programming_dictionary = {\n",
    "    \"Bug\": \"An error in a program that prevents the program from running as expected.\", \n",
    "    \"Function\": \"A piece of code that you can easily call over and over again.\"\n",
    "    }\n",
    "\n",
    "\n",
    "print(programming_dictionary[\"Bug\"])"
   ]
  },
  {
   "cell_type": "code",
   "execution_count": 7,
   "id": "f72cac17-cc2a-4810-a2f3-cb0a23fb7c86",
   "metadata": {},
   "outputs": [
    {
     "data": {
      "text/plain": [
       "{'Bug': 'An error in a program that prevents the program from running as expected.',\n",
       " 'Function': 'A piece of code that you can easily call over and over again.',\n",
       " 'Loop': 'The action of doing something over and over again'}"
      ]
     },
     "execution_count": 7,
     "metadata": {},
     "output_type": "execute_result"
    }
   ],
   "source": [
    "# adding new items to dictionary\n",
    "\n",
    "programming_dictionary['Loop']= 'The action of doing something over and over again'\n",
    "\n",
    "programming_dictionary"
   ]
  },
  {
   "cell_type": "code",
   "execution_count": 8,
   "id": "21febeac-d10b-42f2-ae16-a39f17654e54",
   "metadata": {},
   "outputs": [
    {
     "name": "stdout",
     "output_type": "stream",
     "text": [
      "Bug\n",
      "An error in a program that prevents the program from running as expected.\n",
      "Function\n",
      "A piece of code that you can easily call over and over again.\n",
      "Loop\n",
      "The action of doing something over and over again\n"
     ]
    }
   ],
   "source": [
    "# Loop through dictionary\n",
    "\n",
    "for key in programming_dictionary:\n",
    "    print(key)\n",
    "    print(programming_dictionary[key])"
   ]
  },
  {
   "cell_type": "code",
   "execution_count": 9,
   "id": "9c6f605c-6aa0-482e-bfe4-fc4c06d26644",
   "metadata": {},
   "outputs": [
    {
     "name": "stdout",
     "output_type": "stream",
     "text": [
      "{'Harry': 'Exceeds Expectations', 'Ron': 'Acceptable', 'Hermione': 'Outstanding', 'Draco': 'Acceptable', 'Neville': 'Fail'}\n"
     ]
    }
   ],
   "source": [
    "# Exercise\n",
    "\n",
    "student_scores = {\n",
    "  \"Harry\": 81,\n",
    "  \"Ron\": 78,\n",
    "  \"Hermione\": 99, \n",
    "  \"Draco\": 74,\n",
    "  \"Neville\": 62,\n",
    "}\n",
    "\n",
    "# TODO-1: Create an empty dictionary called student_grades.\n",
    "student_grades = {}\n",
    "\n",
    "# TODO-2: Write your code below to add the grades to student_grades.👇\n",
    "for student in student_scores:\n",
    "    score = student_scores[student]\n",
    "    if score > 90:\n",
    "        student_grades[student] = \"Outstanding\"\n",
    "    elif score > 80:\n",
    "        student_grades[student] = \"Exceeds Expectations\"\n",
    "    elif score > 70:\n",
    "        student_grades[student] = \"Acceptable\"\n",
    "    else:\n",
    "        student_grades[student] = \"Fail\"\n",
    "\n",
    "# 🚨 Don't change the code below 👇\n",
    "print(student_grades)"
   ]
  },
  {
   "cell_type": "markdown",
   "id": "3af9c7f9-bdd7-4cee-8600-8ac5e83eeb69",
   "metadata": {},
   "source": [
    "# Nested Dictionary"
   ]
  },
  {
   "cell_type": "code",
   "execution_count": null,
   "id": "073f6223-7b0a-4431-b5ba-1c9ae61e7446",
   "metadata": {},
   "outputs": [],
   "source": [
    "# data = {\n",
    "key: [list1],\n",
    "key2: {Dict}\n",
    "}"
   ]
  },
  {
   "cell_type": "code",
   "execution_count": 9,
   "id": "d218bf88-6d8e-424e-a32b-3e9169b4fba2",
   "metadata": {},
   "outputs": [
    {
     "name": "stdout",
     "output_type": "stream",
     "text": [
      "[{'country': 'France', 'cities_visited': ['Paris', 'Lille', 'Dijon'], 'total_visits': 12}, {'country': 'Germany', 'cities_visited': ['Berlin', 'Hamburg', 'Stuttgart'], 'total_visits': 5}]\n",
      "I've been to India 3 times.\n",
      "My favourite city was Pune.\n"
     ]
    }
   ],
   "source": [
    "# Nesting \n",
    "capitals = {\n",
    "  \"France\": \"Paris\",\n",
    "  \"Germany\": \"Berlin\",\n",
    "}\n",
    "\n",
    "#Nesting a List in a Dictionary\n",
    "\n",
    "travel_log = {\n",
    "  \"France\": [\"Paris\", \"Lille\", \"Dijon\"],\n",
    "  \"Germany\": [\"Berlin\", \"Hamburg\", \"Stuttgart\"],\n",
    "}\n",
    "\n",
    "#Nesting Dictionary in a Dictionary\n",
    "\n",
    "travel_log = {\n",
    "  \"France\": {\"cities_visited\": [\"Paris\", \"Lille\", \"Dijon\"], \"total_visits\": 12},\n",
    "  \"Germany\": {\"cities_visited\": [\"Berlin\", \"Hamburg\", \"Stuttgart\"], \"total_visits\": 5},\n",
    "}\n",
    "\n",
    "#Nesting Dictionaries in Lists\n",
    "\n",
    "travel_log = [\n",
    "{\n",
    "  \"country\": \"France\", \n",
    "  \"cities_visited\": [\"Paris\", \"Lille\", \"Dijon\"], \n",
    "  \"total_visits\": 12,\n",
    "},\n",
    "{\n",
    "  \"country\": \"Germany\",\n",
    "  \"cities_visited\": [\"Berlin\", \"Hamburg\", \"Stuttgart\"],\n",
    "  \"total_visits\": 5,\n",
    "}\n",
    "]\n",
    "print(travel_log)\n",
    "\n",
    "def add_new_country(name, times_visited, cities_visited):\n",
    "    new_country = {}\n",
    "    new_country['country'] = name\n",
    "    new_country['visits'] = times_visited\n",
    "    new_country['cities'] = cities_visited\n",
    "    travel_log.append(new_country)\n",
    "\n",
    "add_new_country(name='India', times_visited=3, cities_visited=['Pune', 'Mumbai'])\n",
    "print(f\"I've been to {(travel_log[2]['country'])} {(travel_log[2]['visits'])} times.\")\n",
    "print(f\"My favourite city was {travel_log[2]['cities'][0]}.\")"
   ]
  },
  {
   "cell_type": "code",
   "execution_count": null,
   "id": "d0f8acd6-f61f-4f8b-b6a6-b9a2a7e8c562",
   "metadata": {},
   "outputs": [],
   "source": []
  },
  {
   "cell_type": "code",
   "execution_count": 11,
   "id": "c3c77910-18de-4307-ba0a-6aa69ecbb249",
   "metadata": {},
   "outputs": [
    {
     "name": "stdout",
     "output_type": "stream",
     "text": [
      "Collecting replit\n",
      "  Downloading replit-4.0.0-py3-none-any.whl.metadata (2.5 kB)\n",
      "Requirement already satisfied: Flask>=2.0.0 in c:\\users\\dinkar\\anaconda3\\lib\\site-packages (from replit) (2.2.5)\n",
      "Requirement already satisfied: Werkzeug<4,>=2 in c:\\users\\dinkar\\anaconda3\\lib\\site-packages (from replit) (2.2.3)\n",
      "Requirement already satisfied: aiohttp>=3.6.2 in c:\\users\\dinkar\\anaconda3\\lib\\site-packages (from replit) (3.9.5)\n",
      "Collecting aiohttp-retry<3.0.0,>=2.8.3 (from replit)\n",
      "  Downloading aiohttp_retry-2.8.3-py3-none-any.whl.metadata (8.9 kB)\n",
      "Collecting protobuf<5.0.0,>=4.21.8 (from replit)\n",
      "  Downloading protobuf-4.25.3-cp310-abi3-win_amd64.whl.metadata (541 bytes)\n",
      "Collecting pyseto<2.0.0,>=1.6.11 (from replit)\n",
      "  Downloading pyseto-1.7.8-py3-none-any.whl.metadata (17 kB)\n",
      "Requirement already satisfied: requests<3.0.0,>=2.25.1 in c:\\users\\dinkar\\anaconda3\\lib\\site-packages (from replit) (2.31.0)\n",
      "Requirement already satisfied: typing_extensions<5,>=4 in c:\\users\\dinkar\\anaconda3\\lib\\site-packages (from replit) (4.11.0)\n",
      "Requirement already satisfied: urllib3<3,>=1.26 in c:\\users\\dinkar\\anaconda3\\lib\\site-packages (from replit) (2.2.1)\n",
      "Requirement already satisfied: aiosignal>=1.1.2 in c:\\users\\dinkar\\anaconda3\\lib\\site-packages (from aiohttp>=3.6.2->replit) (1.2.0)\n",
      "Requirement already satisfied: attrs>=17.3.0 in c:\\users\\dinkar\\anaconda3\\lib\\site-packages (from aiohttp>=3.6.2->replit) (23.1.0)\n",
      "Requirement already satisfied: frozenlist>=1.1.1 in c:\\users\\dinkar\\anaconda3\\lib\\site-packages (from aiohttp>=3.6.2->replit) (1.4.0)\n",
      "Requirement already satisfied: multidict<7.0,>=4.5 in c:\\users\\dinkar\\anaconda3\\lib\\site-packages (from aiohttp>=3.6.2->replit) (6.0.4)\n",
      "Requirement already satisfied: yarl<2.0,>=1.0 in c:\\users\\dinkar\\anaconda3\\lib\\site-packages (from aiohttp>=3.6.2->replit) (1.9.3)\n",
      "Requirement already satisfied: Jinja2>=3.0 in c:\\users\\dinkar\\anaconda3\\lib\\site-packages (from Flask>=2.0.0->replit) (3.1.3)\n",
      "Requirement already satisfied: itsdangerous>=2.0 in c:\\users\\dinkar\\anaconda3\\lib\\site-packages (from Flask>=2.0.0->replit) (2.0.1)\n",
      "Requirement already satisfied: click>=8.0 in c:\\users\\dinkar\\anaconda3\\lib\\site-packages (from Flask>=2.0.0->replit) (8.1.7)\n",
      "Collecting argon2-cffi>=23.1.0 (from pyseto<2.0.0,>=1.6.11->replit)\n",
      "  Downloading argon2_cffi-23.1.0-py3-none-any.whl.metadata (5.2 kB)\n",
      "Requirement already satisfied: cryptography<43,>=42.0.1 in c:\\users\\dinkar\\anaconda3\\lib\\site-packages (from pyseto<2.0.0,>=1.6.11->replit) (42.0.5)\n",
      "Collecting iso8601<3.0.0,>=1.0.2 (from pyseto<2.0.0,>=1.6.11->replit)\n",
      "  Downloading iso8601-2.1.0-py3-none-any.whl.metadata (3.7 kB)\n",
      "Collecting pycryptodomex>=3.18.0 (from pyseto<2.0.0,>=1.6.11->replit)\n",
      "  Downloading pycryptodomex-3.20.0-cp35-abi3-win_amd64.whl.metadata (3.4 kB)\n",
      "Requirement already satisfied: charset-normalizer<4,>=2 in c:\\users\\dinkar\\anaconda3\\lib\\site-packages (from requests<3.0.0,>=2.25.1->replit) (2.0.4)\n",
      "Requirement already satisfied: idna<4,>=2.5 in c:\\users\\dinkar\\anaconda3\\lib\\site-packages (from requests<3.0.0,>=2.25.1->replit) (3.7)\n",
      "Requirement already satisfied: certifi>=2017.4.17 in c:\\users\\dinkar\\anaconda3\\lib\\site-packages (from requests<3.0.0,>=2.25.1->replit) (2024.2.2)\n",
      "Requirement already satisfied: MarkupSafe>=2.1.1 in c:\\users\\dinkar\\anaconda3\\lib\\site-packages (from Werkzeug<4,>=2->replit) (2.1.3)\n",
      "Requirement already satisfied: argon2-cffi-bindings in c:\\users\\dinkar\\anaconda3\\lib\\site-packages (from argon2-cffi>=23.1.0->pyseto<2.0.0,>=1.6.11->replit) (21.2.0)\n",
      "Requirement already satisfied: colorama in c:\\users\\dinkar\\anaconda3\\lib\\site-packages (from click>=8.0->Flask>=2.0.0->replit) (0.4.6)\n",
      "Requirement already satisfied: cffi>=1.12 in c:\\users\\dinkar\\anaconda3\\lib\\site-packages (from cryptography<43,>=42.0.1->pyseto<2.0.0,>=1.6.11->replit) (1.16.0)\n",
      "Requirement already satisfied: pycparser in c:\\users\\dinkar\\anaconda3\\lib\\site-packages (from cffi>=1.12->cryptography<43,>=42.0.1->pyseto<2.0.0,>=1.6.11->replit) (2.21)\n",
      "Downloading replit-4.0.0-py3-none-any.whl (30 kB)\n",
      "Downloading aiohttp_retry-2.8.3-py3-none-any.whl (9.8 kB)\n",
      "Downloading protobuf-4.25.3-cp310-abi3-win_amd64.whl (413 kB)\n",
      "   ---------------------------------------- 0.0/413.4 kB ? eta -:--:--\n",
      "   -- ------------------------------------- 30.7/413.4 kB 1.3 MB/s eta 0:00:01\n",
      "   --- ----------------------------------- 41.0/413.4 kB 991.0 kB/s eta 0:00:01\n",
      "   ----- --------------------------------- 61.4/413.4 kB 469.7 kB/s eta 0:00:01\n",
      "   ---------- --------------------------- 112.6/413.4 kB 656.4 kB/s eta 0:00:01\n",
      "   ---------- --------------------------- 112.6/413.4 kB 656.4 kB/s eta 0:00:01\n",
      "   ------------ ------------------------- 133.1/413.4 kB 491.5 kB/s eta 0:00:01\n",
      "   -------------- ----------------------- 153.6/413.4 kB 538.9 kB/s eta 0:00:01\n",
      "   -------------- ----------------------- 153.6/413.4 kB 538.9 kB/s eta 0:00:01\n",
      "   -------------- ----------------------- 153.6/413.4 kB 538.9 kB/s eta 0:00:01\n",
      "   ------------------ ------------------- 204.8/413.4 kB 497.6 kB/s eta 0:00:01\n",
      "   ------------------ ------------------- 204.8/413.4 kB 497.6 kB/s eta 0:00:01\n",
      "   ------------------ ------------------- 204.8/413.4 kB 497.6 kB/s eta 0:00:01\n",
      "   ------------------ ------------------- 204.8/413.4 kB 497.6 kB/s eta 0:00:01\n",
      "   --------------------- ---------------- 235.5/413.4 kB 379.3 kB/s eta 0:00:01\n",
      "   ------------------------ ------------- 266.2/413.4 kB 390.2 kB/s eta 0:00:01\n",
      "   ------------------------ ------------- 266.2/413.4 kB 390.2 kB/s eta 0:00:01\n",
      "   ------------------------ ------------- 266.2/413.4 kB 390.2 kB/s eta 0:00:01\n",
      "   -------------------------- ----------- 286.7/413.4 kB 354.0 kB/s eta 0:00:01\n",
      "   ----------------------------- -------- 317.4/413.4 kB 377.9 kB/s eta 0:00:01\n",
      "   ------------------------------- ------ 337.9/413.4 kB 361.7 kB/s eta 0:00:01\n",
      "   ---------------------------------- --- 378.9/413.4 kB 393.0 kB/s eta 0:00:01\n",
      "   ---------------------------------- --- 378.9/413.4 kB 393.0 kB/s eta 0:00:01\n",
      "   ---------------------------------- --- 378.9/413.4 kB 393.0 kB/s eta 0:00:01\n",
      "   -------------------------------------- 413.4/413.4 kB 368.5 kB/s eta 0:00:00\n",
      "Downloading pyseto-1.7.8-py3-none-any.whl (63 kB)\n",
      "   ---------------------------------------- 0.0/63.8 kB ? eta -:--:--\n",
      "   ------ --------------------------------- 10.2/63.8 kB ? eta -:--:--\n",
      "   ------ --------------------------------- 10.2/63.8 kB ? eta -:--:--\n",
      "   ------------------------- -------------- 41.0/63.8 kB 326.8 kB/s eta 0:00:01\n",
      "   -------------------------------------- - 61.4/63.8 kB 365.7 kB/s eta 0:00:01\n",
      "   ---------------------------------------- 63.8/63.8 kB 311.6 kB/s eta 0:00:00\n",
      "Downloading argon2_cffi-23.1.0-py3-none-any.whl (15 kB)\n",
      "Downloading iso8601-2.1.0-py3-none-any.whl (7.5 kB)\n",
      "Downloading pycryptodomex-3.20.0-cp35-abi3-win_amd64.whl (1.8 MB)\n",
      "   ---------------------------------------- 0.0/1.8 MB ? eta -:--:--\n",
      "    --------------------------------------- 0.0/1.8 MB 1.9 MB/s eta 0:00:01\n",
      "    --------------------------------------- 0.0/1.8 MB 1.9 MB/s eta 0:00:01\n",
      "    --------------------------------------- 0.0/1.8 MB 1.9 MB/s eta 0:00:01\n",
      "   -- ------------------------------------- 0.1/1.8 MB 595.3 kB/s eta 0:00:03\n",
      "   -- ------------------------------------- 0.1/1.8 MB 595.3 kB/s eta 0:00:03\n",
      "   -- ------------------------------------- 0.1/1.8 MB 595.3 kB/s eta 0:00:03\n",
      "   --- ------------------------------------ 0.2/1.8 MB 458.0 kB/s eta 0:00:04\n",
      "   --- ------------------------------------ 0.2/1.8 MB 476.3 kB/s eta 0:00:04\n",
      "   --- ------------------------------------ 0.2/1.8 MB 476.3 kB/s eta 0:00:04\n",
      "   ----- ---------------------------------- 0.2/1.8 MB 474.7 kB/s eta 0:00:04\n",
      "   ----- ---------------------------------- 0.2/1.8 MB 474.7 kB/s eta 0:00:04\n",
      "   ----- ---------------------------------- 0.2/1.8 MB 474.7 kB/s eta 0:00:04\n",
      "   ----- ---------------------------------- 0.2/1.8 MB 400.1 kB/s eta 0:00:04\n",
      "   ----- ---------------------------------- 0.2/1.8 MB 400.1 kB/s eta 0:00:04\n",
      "   ----- ---------------------------------- 0.2/1.8 MB 400.1 kB/s eta 0:00:04\n",
      "   ------ --------------------------------- 0.3/1.8 MB 368.6 kB/s eta 0:00:05\n",
      "   ------ --------------------------------- 0.3/1.8 MB 368.6 kB/s eta 0:00:05\n",
      "   ------ --------------------------------- 0.3/1.8 MB 368.6 kB/s eta 0:00:05\n",
      "   ------- -------------------------------- 0.3/1.8 MB 367.8 kB/s eta 0:00:04\n",
      "   -------- ------------------------------- 0.4/1.8 MB 384.3 kB/s eta 0:00:04\n",
      "   --------- ------------------------------ 0.4/1.8 MB 416.3 kB/s eta 0:00:04\n",
      "   ---------- ----------------------------- 0.5/1.8 MB 446.9 kB/s eta 0:00:03\n",
      "   ----------- ---------------------------- 0.5/1.8 MB 481.7 kB/s eta 0:00:03\n",
      "   ------------- -------------------------- 0.6/1.8 MB 509.7 kB/s eta 0:00:03\n",
      "   -------------- ------------------------- 0.6/1.8 MB 540.3 kB/s eta 0:00:03\n",
      "   --------------- ------------------------ 0.7/1.8 MB 568.9 kB/s eta 0:00:02\n",
      "   ----------------- ---------------------- 0.8/1.8 MB 598.5 kB/s eta 0:00:02\n",
      "   ------------------ --------------------- 0.8/1.8 MB 623.9 kB/s eta 0:00:02\n",
      "   -------------------- ------------------- 0.9/1.8 MB 663.1 kB/s eta 0:00:02\n",
      "   --------------------- ------------------ 1.0/1.8 MB 684.6 kB/s eta 0:00:02\n",
      "   ----------------------- ---------------- 1.0/1.8 MB 697.7 kB/s eta 0:00:02\n",
      "   ------------------------ --------------- 1.1/1.8 MB 723.6 kB/s eta 0:00:01\n",
      "   -------------------------- ------------- 1.2/1.8 MB 748.0 kB/s eta 0:00:01\n",
      "   --------------------------- ------------ 1.2/1.8 MB 765.7 kB/s eta 0:00:01\n",
      "   ----------------------------- ---------- 1.3/1.8 MB 786.3 kB/s eta 0:00:01\n",
      "   ------------------------------ --------- 1.4/1.8 MB 808.4 kB/s eta 0:00:01\n",
      "   -------------------------------- ------- 1.4/1.8 MB 823.8 kB/s eta 0:00:01\n",
      "   --------------------------------- ------ 1.5/1.8 MB 822.2 kB/s eta 0:00:01\n",
      "   ----------------------------------- ---- 1.6/1.8 MB 845.9 kB/s eta 0:00:01\n",
      "   ------------------------------------- -- 1.7/1.8 MB 879.3 kB/s eta 0:00:01\n",
      "   ---------------------------------------  1.8/1.8 MB 903.5 kB/s eta 0:00:01\n",
      "   ---------------------------------------  1.8/1.8 MB 903.5 kB/s eta 0:00:01\n",
      "   ---------------------------------------- 1.8/1.8 MB 883.4 kB/s eta 0:00:00\n",
      "Installing collected packages: pycryptodomex, protobuf, iso8601, argon2-cffi, aiohttp-retry, pyseto, replit\n",
      "  Attempting uninstall: protobuf\n",
      "    Found existing installation: protobuf 3.20.3\n",
      "    Uninstalling protobuf-3.20.3:\n",
      "      Successfully uninstalled protobuf-3.20.3\n",
      "  Attempting uninstall: argon2-cffi\n",
      "    Found existing installation: argon2-cffi 21.3.0\n",
      "    Uninstalling argon2-cffi-21.3.0:\n",
      "      Successfully uninstalled argon2-cffi-21.3.0\n",
      "Successfully installed aiohttp-retry-2.8.3 argon2-cffi-23.1.0 iso8601-2.1.0 protobuf-4.25.3 pycryptodomex-3.20.0 pyseto-1.7.8 replit-4.0.0\n"
     ]
    },
    {
     "name": "stderr",
     "output_type": "stream",
     "text": [
      "ERROR: pip's dependency resolver does not currently take into account all the packages that are installed. This behaviour is the source of the following dependency conflicts.\n",
      "streamlit 1.16.0 requires protobuf<4,>=3.12, but you have protobuf 4.25.3 which is incompatible.\n"
     ]
    }
   ],
   "source": [
    "!pip install replit"
   ]
  },
  {
   "cell_type": "code",
   "execution_count": 12,
   "id": "3a72e339-8f89-414a-8e65-f9153c72d18b",
   "metadata": {},
   "outputs": [],
   "source": [
    "from replit import clear"
   ]
  },
  {
   "cell_type": "code",
   "execution_count": 14,
   "id": "8ebbf805-eeae-4c33-a67b-926e1dd6679e",
   "metadata": {},
   "outputs": [
    {
     "name": "stdin",
     "output_type": "stream",
     "text": [
      "What is your name?  Dinkar\n",
      "What is your bid? $  254\n",
      "Are there any other bidders? Type 'Yes' or 'No' Yes\n"
     ]
    },
    {
     "name": "stdout",
     "output_type": "stream",
     "text": [
      "\u001b[H\u001b[2J"
     ]
    },
    {
     "name": "stdin",
     "output_type": "stream",
     "text": [
      "What is your name?  Patil\n",
      "What is your bid? $  5963\n",
      "Are there any other bidders? Type 'Yes' or 'No' no\n",
      "What is your name?  dsndask\n",
      "What is your bid? $  838\n",
      "Are there any other bidders? Type 'Yes' or 'No' no\n"
     ]
    },
    {
     "ename": "KeyboardInterrupt",
     "evalue": "Interrupted by user",
     "output_type": "error",
     "traceback": [
      "\u001b[1;31m---------------------------------------------------------------------------\u001b[0m",
      "\u001b[1;31mKeyboardInterrupt\u001b[0m                         Traceback (most recent call last)",
      "Cell \u001b[1;32mIn[14], line 15\u001b[0m\n\u001b[0;32m     12\u001b[0m     \u001b[38;5;28mprint\u001b[39m(\u001b[38;5;124mf\u001b[39m\u001b[38;5;124m\"\u001b[39m\u001b[38;5;124mThe winner is \u001b[39m\u001b[38;5;132;01m{\u001b[39;00mwinner\u001b[38;5;132;01m}\u001b[39;00m\u001b[38;5;124m with a bidd of $\u001b[39m\u001b[38;5;132;01m{\u001b[39;00mhighest_bid\u001b[38;5;132;01m}\u001b[39;00m\u001b[38;5;124m\"\u001b[39m )\n\u001b[0;32m     14\u001b[0m \u001b[38;5;28;01mwhile\u001b[39;00m \u001b[38;5;129;01mnot\u001b[39;00m bidding_finished:\n\u001b[1;32m---> 15\u001b[0m     name \u001b[38;5;241m=\u001b[39m \u001b[38;5;28minput\u001b[39m(\u001b[38;5;124m\"\u001b[39m\u001b[38;5;124mWhat is your name? \u001b[39m\u001b[38;5;124m\"\u001b[39m)\n\u001b[0;32m     16\u001b[0m     price \u001b[38;5;241m=\u001b[39m \u001b[38;5;28mint\u001b[39m(\u001b[38;5;28minput\u001b[39m(\u001b[38;5;124m\"\u001b[39m\u001b[38;5;124mWhat is your bid? $ \u001b[39m\u001b[38;5;124m\"\u001b[39m))\n\u001b[0;32m     17\u001b[0m     bids[name] \u001b[38;5;241m=\u001b[39m price\n",
      "File \u001b[1;32m~\\anaconda3\\Lib\\site-packages\\ipykernel\\kernelbase.py:1262\u001b[0m, in \u001b[0;36mKernel.raw_input\u001b[1;34m(self, prompt)\u001b[0m\n\u001b[0;32m   1260\u001b[0m     msg \u001b[38;5;241m=\u001b[39m \u001b[38;5;124m\"\u001b[39m\u001b[38;5;124mraw_input was called, but this frontend does not support input requests.\u001b[39m\u001b[38;5;124m\"\u001b[39m\n\u001b[0;32m   1261\u001b[0m     \u001b[38;5;28;01mraise\u001b[39;00m StdinNotImplementedError(msg)\n\u001b[1;32m-> 1262\u001b[0m \u001b[38;5;28;01mreturn\u001b[39;00m \u001b[38;5;28mself\u001b[39m\u001b[38;5;241m.\u001b[39m_input_request(\n\u001b[0;32m   1263\u001b[0m     \u001b[38;5;28mstr\u001b[39m(prompt),\n\u001b[0;32m   1264\u001b[0m     \u001b[38;5;28mself\u001b[39m\u001b[38;5;241m.\u001b[39m_parent_ident[\u001b[38;5;124m\"\u001b[39m\u001b[38;5;124mshell\u001b[39m\u001b[38;5;124m\"\u001b[39m],\n\u001b[0;32m   1265\u001b[0m     \u001b[38;5;28mself\u001b[39m\u001b[38;5;241m.\u001b[39mget_parent(\u001b[38;5;124m\"\u001b[39m\u001b[38;5;124mshell\u001b[39m\u001b[38;5;124m\"\u001b[39m),\n\u001b[0;32m   1266\u001b[0m     password\u001b[38;5;241m=\u001b[39m\u001b[38;5;28;01mFalse\u001b[39;00m,\n\u001b[0;32m   1267\u001b[0m )\n",
      "File \u001b[1;32m~\\anaconda3\\Lib\\site-packages\\ipykernel\\kernelbase.py:1305\u001b[0m, in \u001b[0;36mKernel._input_request\u001b[1;34m(self, prompt, ident, parent, password)\u001b[0m\n\u001b[0;32m   1302\u001b[0m \u001b[38;5;28;01mexcept\u001b[39;00m \u001b[38;5;167;01mKeyboardInterrupt\u001b[39;00m:\n\u001b[0;32m   1303\u001b[0m     \u001b[38;5;66;03m# re-raise KeyboardInterrupt, to truncate traceback\u001b[39;00m\n\u001b[0;32m   1304\u001b[0m     msg \u001b[38;5;241m=\u001b[39m \u001b[38;5;124m\"\u001b[39m\u001b[38;5;124mInterrupted by user\u001b[39m\u001b[38;5;124m\"\u001b[39m\n\u001b[1;32m-> 1305\u001b[0m     \u001b[38;5;28;01mraise\u001b[39;00m \u001b[38;5;167;01mKeyboardInterrupt\u001b[39;00m(msg) \u001b[38;5;28;01mfrom\u001b[39;00m \u001b[38;5;28;01mNone\u001b[39;00m\n\u001b[0;32m   1306\u001b[0m \u001b[38;5;28;01mexcept\u001b[39;00m \u001b[38;5;167;01mException\u001b[39;00m:\n\u001b[0;32m   1307\u001b[0m     \u001b[38;5;28mself\u001b[39m\u001b[38;5;241m.\u001b[39mlog\u001b[38;5;241m.\u001b[39mwarning(\u001b[38;5;124m\"\u001b[39m\u001b[38;5;124mInvalid Message:\u001b[39m\u001b[38;5;124m\"\u001b[39m, exc_info\u001b[38;5;241m=\u001b[39m\u001b[38;5;28;01mTrue\u001b[39;00m)\n",
      "\u001b[1;31mKeyboardInterrupt\u001b[0m: Interrupted by user"
     ]
    }
   ],
   "source": [
    "# Bidding Project\n",
    "\n",
    "bids = {}\n",
    "bidding_finished = False\n",
    "\n",
    "def find_highest_bidder(bidding_record):\n",
    "    for bidder in bidding_record:\n",
    "        bid_amount = bidding_record[bidder]\n",
    "        if bid_amount > highest_bid:\n",
    "            highest_bid = bid_amount\n",
    "            winner = bidder\n",
    "    print(f\"The winner is {winner} with a bidd of ${highest_bid}\" )\n",
    "\n",
    "while not bidding_finished:\n",
    "    name = input(\"What is your name? \")\n",
    "    price = int(input(\"What is your bid? $ \"))\n",
    "    bids[name] = price\n",
    "    should_continue = input(\"Are there any other bidders? Type 'Yes' or 'No'\").lower()\n",
    "    if should_continue == 'no':\n",
    "        bidding_finished = True\n",
    "    elif should_continue == 'yes':\n",
    "        clear()"
   ]
  },
  {
   "cell_type": "code",
   "execution_count": null,
   "id": "0a2a586e-16bb-42fd-8267-2f28425524be",
   "metadata": {},
   "outputs": [],
   "source": []
  }
 ],
 "metadata": {
  "kernelspec": {
   "display_name": "Python 3 (ipykernel)",
   "language": "python",
   "name": "python3"
  },
  "language_info": {
   "codemirror_mode": {
    "name": "ipython",
    "version": 3
   },
   "file_extension": ".py",
   "mimetype": "text/x-python",
   "name": "python",
   "nbconvert_exporter": "python",
   "pygments_lexer": "ipython3",
   "version": "3.11.7"
  },
  "widgets": {
   "application/vnd.jupyter.widget-state+json": {
    "state": {},
    "version_major": 2,
    "version_minor": 0
   }
  }
 },
 "nbformat": 4,
 "nbformat_minor": 5
}
