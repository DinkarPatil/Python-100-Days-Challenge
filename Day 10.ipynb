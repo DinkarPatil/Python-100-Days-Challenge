{
 "cells": [
  {
   "cell_type": "markdown",
   "id": "63cb865c-e2f9-4794-8db5-87b2fc435c79",
   "metadata": {},
   "source": [
    "# Day 10"
   ]
  },
  {
   "cell_type": "code",
   "execution_count": null,
   "id": "7b3fb425-a41a-407a-add9-abeb9b348db0",
   "metadata": {},
   "outputs": [],
   "source": [
    "# Functions with Outputs"
   ]
  },
  {
   "cell_type": "code",
   "execution_count": 1,
   "id": "9e85e76f-89e6-4196-991a-6f3015bcd9ff",
   "metadata": {},
   "outputs": [],
   "source": [
    "def format_name(f_name, l_name):\n",
    "    return f_name.title(), l_name.title()"
   ]
  },
  {
   "cell_type": "code",
   "execution_count": 3,
   "id": "d789612c-5e9d-4259-bb29-56c082792faa",
   "metadata": {},
   "outputs": [
    {
     "data": {
      "text/plain": [
       "('Dinkar', 'Patil')"
      ]
     },
     "execution_count": 3,
     "metadata": {},
     "output_type": "execute_result"
    }
   ],
   "source": [
    "format_name('DInkar', 'PATIL')"
   ]
  },
  {
   "cell_type": "code",
   "execution_count": 3,
   "id": "d0160a93-c66d-408f-82e0-2d54dbc656e3",
   "metadata": {},
   "outputs": [
    {
     "name": "stdin",
     "output_type": "stream",
     "text": [
      " 2016\n",
      " 2\n"
     ]
    },
    {
     "name": "stdout",
     "output_type": "stream",
     "text": [
      "29\n"
     ]
    }
   ],
   "source": [
    "# Leap Year or Not:\n",
    "\n",
    "def is_leap(year):\n",
    "    \"\"\"Docstring \n",
    "    1\n",
    "    2\n",
    "    3\n",
    "    4\n",
    "    5\n",
    "    \n",
    "    \"\"\"\n",
    "    if year%4 == 0:\n",
    "        if year%100 == 0:\n",
    "            if year%400 == 0:\n",
    "                return True\n",
    "            else:\n",
    "                return False\n",
    "        else:\n",
    "            return True\n",
    "    else:\n",
    "        return False\n",
    "\n",
    "\n",
    "def days_in_month(year, month):\n",
    "    \n",
    "    month_days = [31, 28, 31, 30, 31, 30, 31, 31, 30, 31, 30, 31]\n",
    "    if month == 2 and is_leap(year):\n",
    "        return 29\n",
    "    else:\n",
    "        return month_days[month - 1]\n",
    "\n",
    "\n",
    "year = int(input())\n",
    "month = int(input())\n",
    "days = days_in_month(year, month)\n",
    "print(days)"
   ]
  },
  {
   "cell_type": "code",
   "execution_count": 7,
   "id": "33a7e38f-dbd9-416e-93cd-3fc8b6eb7b3a",
   "metadata": {},
   "outputs": [],
   "source": [
    "# Docstring \n",
    "a = is_leap.__doc__\n",
    "a"
   ]
  },
  {
   "cell_type": "code",
   "execution_count": 11,
   "id": "30bebf8b-0184-4649-a6d1-6496db1da51a",
   "metadata": {},
   "outputs": [
    {
     "name": "stdin",
     "output_type": "stream",
     "text": [
      "Enter First Number  55\n",
      "Enter Second Number  5\n"
     ]
    },
    {
     "name": "stdout",
     "output_type": "stream",
     "text": [
      "+\n",
      "-\n",
      "*\n",
      "/\n"
     ]
    },
    {
     "name": "stdin",
     "output_type": "stream",
     "text": [
      "Pick an operation from the line above /\n"
     ]
    },
    {
     "name": "stdout",
     "output_type": "stream",
     "text": [
      "55 / 5 = 11.0\n"
     ]
    }
   ],
   "source": [
    "# Calculator\n",
    "\n",
    "def add(n1, n2):\n",
    "    return n1 + n2\n",
    "\n",
    "def substract(n1, n2):\n",
    "    return n1 - n2\n",
    "\n",
    "def multiply(n1, n2):\n",
    "    return n1 * n2\n",
    "\n",
    "def divide(n1, n2):\n",
    "    return n1 / n2\n",
    "\n",
    "operations = {\n",
    "    \"+\": add,\n",
    "    \"-\": substract,\n",
    "    \"*\": multiply,\n",
    "    \"/\": divide\n",
    "}\n",
    "\n",
    "# Recursion\n",
    "def calculator():\n",
    "    num1 = eval(input(\"Enter First Number \"))\n",
    "    \n",
    "    for symbol in operations:\n",
    "        print(symbol)\n",
    "    \n",
    "    should_continue = True\n",
    "    \n",
    "    while should_continue:   \n",
    "        operation_symbol = input(\"Pick an operation from the line above\")\n",
    "        num2 = eval(input(\"Enter next Number \"))\n",
    "        calculation_function = operations[operation_symbol]\n",
    "        answer = calculation_function(num1, num2)\n",
    "        \n",
    "        print(f\"{num1} {operation_symbol} {num2} = {answer}\")\n",
    "    \n",
    "        if input(f\"Type 'y' to continue calculating with {answer} or type 'n' to exit: \") == 'y':\n",
    "            num1 = answer\n",
    "        \n",
    "        else: \n",
    "            should_continue = False\n",
    "            calculator()"
   ]
  },
  {
   "cell_type": "code",
   "execution_count": null,
   "id": "26af3dc2-8212-4d7e-bfe8-69a25f783022",
   "metadata": {},
   "outputs": [],
   "source": []
  }
 ],
 "metadata": {
  "kernelspec": {
   "display_name": "Python 3 (ipykernel)",
   "language": "python",
   "name": "python3"
  },
  "language_info": {
   "codemirror_mode": {
    "name": "ipython",
    "version": 3
   },
   "file_extension": ".py",
   "mimetype": "text/x-python",
   "name": "python",
   "nbconvert_exporter": "python",
   "pygments_lexer": "ipython3",
   "version": "3.11.7"
  },
  "widgets": {
   "application/vnd.jupyter.widget-state+json": {
    "state": {},
    "version_major": 2,
    "version_minor": 0
   }
  }
 },
 "nbformat": 4,
 "nbformat_minor": 5
}
